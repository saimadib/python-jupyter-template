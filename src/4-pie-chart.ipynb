{
 "cells": [
  {
   "cell_type": "markdown",
   "metadata": {},
   "source": [
    "### Exercise 4: Pie Chart with Percentages"
   ]
  },
  {
   "cell_type": "code",
   "execution_count": null,
   "metadata": {},
   "outputs": [],
   "source": [
    "# TASK: Create a pie chart with the following data: labels = ['Python', 'Java', 'C++', 'JavaScript'] and sizes = [40, 25, 20, 15].\n",
    "# Display the percentages on the chart using autopct.\n",
    "\n",
    "def plot_pie(labels, sizes, title=\"Pie Chart of Sizes\"):\n",
    "    \"\"\"\n",
    "    Creates a pie chart with percentage labels.\n",
    "\n",
    "    Parameters:\n",
    "    - labels (list of str): Labels for each wedge.\n",
    "    - sizes (list of numeric): Sizes of each wedge.\n",
    "    - title (str): Title of the pie chart.\n",
    "\n",
    "    Returns:\n",
    "    - None: Displays the pie chart.\n",
    "\n",
    "    Example:\n",
    "        >>> plot_pie(['A','B'], [60,40])\n",
    "    \"\"\"\n",
    "    logger.debug(\"Entering plot_pie function.\")\n",
    "    fig, ax = plt.subplots(figsize=(8, 8))\n",
    "    logger.debug(f\"Plotting pie chart labels={labels}, sizes={sizes}.\")\n",
    "    wedges, texts, autotexts = ax.pie(\n",
    "        sizes,\n",
    "        labels=labels,\n",
    "        autopct='%1.1f%%',\n",
    "        startangle=90,\n",
    "        textprops=dict(color=\"w\")\n",
    "    )\n",
    "    ax.set_title(title)\n",
    "    ax.axis('equal')  # Ensures pie is drawn as a circle\n",
    "    plt.legend(wedges, labels, title=\"Categories\", loc=\"center left\", bbox_to_anchor=(1, 0, 0.5, 1))\n",
    "    plt.tight_layout()\n",
    "    logger.info(\"Displaying pie chart.\")\n",
    "    plt.show()\n",
    "    logger.debug(\"Exiting plot_pie function.\")"
   ]
  }
 ],
 "metadata": {
  "language_info": {
   "name": "python"
  }
 },
 "nbformat": 4,
 "nbformat_minor": 2
}
