{
 "cells": [
  {
   "cell_type": "markdown",
   "metadata": {},
   "source": [
    "### Exercise 2: Bar Plot with Colors"
   ]
  },
  {
   "cell_type": "code",
   "execution_count": null,
   "metadata": {},
   "outputs": [],
   "source": [
    "# TASK: Create a bar plot with the following data: categories = ['A', 'B', 'C', 'D'] and values = [5, 7, 3, 9].\n",
    "# Use different colors for each bar and add a title to the plot.\n",
    "\n",
    "def plot_bar(categories, values, colors, title=\"Bar Plot of Categories vs. Values\"):\n",
    "    \"\"\"\n",
    "    Creates a bar plot given categories and values.\n",
    "\n",
    "    Parameters:\n",
    "    - categories (list of str): The labels for each bar.\n",
    "    - values (list of numeric): The heights for each bar.\n",
    "    - colors (list of str): A color specifier for each bar.\n",
    "    - title (str): Title of the bar plot.\n",
    "\n",
    "    Returns:\n",
    "    - None: Displays the bar plot.\n",
    "\n",
    "    Example:\n",
    "        >>> plot_bar(['A','B'], [5,7], ['blue','green'])\n",
    "    \"\"\"\n",
    "    logger.debug(\"Entering plot_bar function.\")\n",
    "    fig, ax = plt.subplots(figsize=(8, 6))\n",
    "    logger.debug(f\"Plotting categories={categories}, values={values}, colors={colors}.\")\n",
    "    ax.bar(categories, values, color=colors)\n",
    "    ax.set_title(title)\n",
    "    ax.set_xlabel(\"Category\")\n",
    "    ax.set_ylabel(\"Value\")\n",
    "    ax.grid(axis='y', linestyle='--', linewidth=0.5)\n",
    "    plt.tight_layout()\n",
    "    logger.info(\"Displaying bar plot.\")\n",
    "    plt.show()\n",
    "    logger.debug(\"Exiting plot_bar function.\")"
   ]
  }
 ],
 "metadata": {
  "language_info": {
   "name": "python"
  }
 },
 "nbformat": 4,
 "nbformat_minor": 2
}
